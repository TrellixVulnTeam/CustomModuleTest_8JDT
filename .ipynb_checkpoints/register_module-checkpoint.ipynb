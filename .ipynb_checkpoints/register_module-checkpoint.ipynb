{
 "cells": [
  {
   "cell_type": "code",
   "execution_count": null,
   "metadata": {
    "scrolled": true
   },
   "outputs": [
    {
     "name": "stdout",
     "output_type": "stream",
     "text": [
      "Uninstalling azureml-core-1.0.55:\n",
      "  Successfully uninstalled azureml-core-1.0.55\n"
     ]
    },
    {
     "name": "stderr",
     "output_type": "stream",
     "text": [
      "WARNING: Skipping algtools as it is not installed.\n",
      "WARNING: Skipping azureml-sdk as it is not installed.\n"
     ]
    },
    {
     "name": "stdout",
     "output_type": "stream",
     "text": [
      "Collecting azureml-telemetry==1.0.48\n",
      "  Downloading https://files.pythonhosted.org/packages/bd/c2/67f8a36a175857981b056825227fe0eef0b26fb150e729a97aad781be2f0/azureml_telemetry-1.0.48-py3-none-any.whl\n",
      "Collecting applicationinsights (from azureml-telemetry==1.0.48)\n",
      "  Downloading https://files.pythonhosted.org/packages/a1/53/234c53004f71f0717d8acd37876e0b65c121181167057b9ce1b1795f96a0/applicationinsights-0.11.9-py2.py3-none-any.whl (58kB)\n",
      "Installing collected packages: applicationinsights, azureml-telemetry\n",
      "Successfully installed applicationinsights-0.11.9 azureml-telemetry-1.0.48\n"
     ]
    }
   ],
   "source": [
    "!pip uninstall algtools azureml-core azureml-sdk -y\n",
    "!pip install azureml-telemetry==1.0.48\n",
    "!pip install algtools==0.0.12 --extra-index-url=https://test.pypi.org/simple"
   ]
  },
  {
   "cell_type": "code",
   "execution_count": null,
   "metadata": {},
   "outputs": [],
   "source": [
    "from azureml_scaffold.run_on_azureml_service import register_module, Module\n",
    "from azureml.core import Workspace"
   ]
  },
  {
   "cell_type": "code",
   "execution_count": 3,
   "metadata": {},
   "outputs": [],
   "source": [
    "ws = Workspace.get(\n",
    "    name='lisal-amlservice',\n",
    "    subscription_id='74eccef0-4b8d-4f83-b5f9-fa100d155b22',\n",
    "    resource_group='lisal-dev'\n",
    ")\n",
    "\n",
    "#    name='lisal-amlservice',\n",
    "#    subscription_id='74eccef0-4b8d-4f83-b5f9-fa100d155b22',\n",
    "#    resource_group='lisal-dev'"
   ]
  },
  {
   "cell_type": "markdown",
   "metadata": {},
   "source": [
    "## Register module"
   ]
  },
  {
   "cell_type": "code",
   "execution_count": 4,
   "metadata": {},
   "outputs": [
    {
     "name": "stdout",
     "output_type": "stream",
     "text": [
      "Detecting yaml file path\n",
      "  git-url: https://github.com/Bowen-Guo/azureml-custom-module-examples.git\n",
      "  branch: master\n",
      "  spec_file_name: ner-bert/module_specs/*.yaml\n",
      "Clone to local directory: /tmp/2aec3265-cfe8-4588-b9ef-c171955a0b3a\n",
      "git(5): 1.0/49.0, \n",
      "git(4): 2.0/49.0, \n",
      "git(4): 3.0/49.0, \n",
      "git(4): 4.0/49.0, \n",
      "git(4): 5.0/49.0, \n",
      "git(4): 6.0/49.0, \n",
      "git(4): 7.0/49.0, \n",
      "git(4): 8.0/49.0, \n",
      "git(4): 9.0/49.0, \n",
      "git(4): 10.0/49.0, \n",
      "git(4): 11.0/49.0, \n",
      "git(4): 12.0/49.0, \n",
      "git(4): 13.0/49.0, \n",
      "git(4): 14.0/49.0, \n",
      "git(4): 15.0/49.0, \n",
      "git(4): 16.0/49.0, \n",
      "git(4): 17.0/49.0, \n",
      "git(4): 18.0/49.0, \n",
      "git(4): 19.0/49.0, \n",
      "git(4): 20.0/49.0, \n",
      "git(4): 21.0/49.0, \n",
      "git(4): 22.0/49.0, \n",
      "git(4): 23.0/49.0, \n",
      "git(4): 24.0/49.0, \n",
      "git(4): 25.0/49.0, \n",
      "git(4): 26.0/49.0, \n",
      "git(4): 27.0/49.0, \n",
      "git(4): 28.0/49.0, \n",
      "git(4): 29.0/49.0, \n",
      "git(4): 30.0/49.0, \n",
      "git(4): 31.0/49.0, \n",
      "git(4): 32.0/49.0, \n",
      "git(4): 33.0/49.0, \n",
      "git(4): 34.0/49.0, \n",
      "git(4): 35.0/49.0, \n",
      "git(4): 36.0/49.0, \n",
      "git(4): 37.0/49.0, \n",
      "git(4): 38.0/49.0, \n",
      "git(4): 39.0/49.0, \n",
      "git(4): 40.0/49.0, \n",
      "git(4): 41.0/49.0, \n",
      "git(4): 42.0/49.0, \n",
      "git(4): 43.0/49.0, \n",
      "git(4): 44.0/49.0, \n",
      "git(4): 45.0/49.0, \n",
      "git(4): 46.0/49.0, \n",
      "git(4): 47.0/49.0, \n",
      "git(4): 48.0/49.0, \n",
      "git(4): 49.0/49.0, \n",
      "git(6): 49.0/49.0, \n",
      "git(9): 1.0/42.0, \n",
      "git(8): 2.0/42.0, \n",
      "git(8): 3.0/42.0, \n",
      "git(8): 4.0/42.0, \n",
      "git(8): 5.0/42.0, \n",
      "git(8): 6.0/42.0, \n",
      "git(8): 7.0/42.0, \n",
      "git(8): 8.0/42.0, \n",
      "git(8): 9.0/42.0, \n",
      "git(8): 10.0/42.0, \n",
      "git(8): 11.0/42.0, \n",
      "git(8): 12.0/42.0, \n",
      "git(8): 13.0/42.0, \n",
      "git(8): 14.0/42.0, \n",
      "git(8): 15.0/42.0, \n",
      "git(8): 16.0/42.0, \n",
      "git(8): 17.0/42.0, \n",
      "git(8): 18.0/42.0, \n",
      "git(8): 19.0/42.0, \n",
      "git(8): 20.0/42.0, \n",
      "git(8): 21.0/42.0, \n",
      "git(8): 22.0/42.0, \n",
      "git(8): 23.0/42.0, \n",
      "git(8): 24.0/42.0, \n",
      "git(8): 25.0/42.0, \n",
      "git(8): 26.0/42.0, \n",
      "git(8): 27.0/42.0, \n",
      "git(8): 28.0/42.0, \n",
      "git(8): 29.0/42.0, \n",
      "git(8): 30.0/42.0, \n",
      "git(8): 31.0/42.0, \n",
      "git(8): 32.0/42.0, \n",
      "git(8): 33.0/42.0, \n",
      "git(8): 34.0/42.0, \n",
      "git(8): 35.0/42.0, \n",
      "git(8): 36.0/42.0, \n",
      "git(8): 37.0/42.0, \n",
      "git(8): 38.0/42.0, \n",
      "git(8): 39.0/42.0, \n",
      "git(8): 40.0/42.0, \n",
      "git(8): 41.0/42.0, \n",
      "git(8): 42.0/42.0, \n",
      "git(10): 42.0/42.0, \n",
      "Search spec file 'ner-bert/module_specs/*.yaml'...\n",
      "Load spec file: ner-bert/module_specs/preprocess.yaml\n",
      "{\"Name\": \"NER Preprocess\", \"FriendlyName\": \"NER Preprocess\", \"FamilyId\": \"90393344-7e12-4179-927d-2d318cf416cb\", \"Category\": \"Machine Learning\\\\Preprocess\", \"Description\": \"NER Preprocess module\", \"Version\": \"1\", \"Owner\": \"Jincheng Chen\", \"ReleaseState\": \"Release\", \"IsDeterministic\": true, \"CondaDependencies\": {\"CondaChannels\": [\"defaults\"], \"CondaPackages\": [\"python=3.6.2\"], \"PipOptions\": [\"--extra-index-url=https://test.pypi.org/simple\"], \"PipPackages\": [\"git+https://github.com/chjinche/azureml-custom-module-examples.git@master#subdirectory=ner-bert\", \"https://download.pytorch.org/whl/cu100/torch-1.1.0-cp36-cp36m-linux_x86_64.whl\", \"nltk==3.4\", \"pandas==0.24.1\", \"pyarrow==0.12.1\", \"pytorch-pretrained-bert==0.6.1\", \"seqeval==0.0.5\", \"torchvision==0.3.0\", \"tqdm==4.31.1\"]}, \"ModuleMetaParameters\": {\"BaseDockerImage\": \"mcr.microsoft.com/azureml/base-gpu:intelmpi2018.3-cuda10.0-cudnn7-ubuntu16.04\", \"GpuSupport\": true}, \"ModuleEntry\": {\"ModuleName\": \"script.preprocess\", \"ClassName\": \"PreProcess\", \"MethodName\": \"run\"}, \"CommandLineEntry\": {\"Command\": [\"python\", \"-m\", \"script.preprocess\"], \"OptionNames\": {\"Input data\": \"--input_data_frame_path\", \"BERT pretrained model\": \"--bert_model\", \"Do lower case\": \"--do_lower_case\", \"Maximum sequence length\": \"--max_seq_length\", \"Output feature\": \"--output_feature_dir\"}}, \"ModuleInterface\": {\"InputPorts\": [{\"Name\": \"Input data\", \"FriendlyName\": \"Input data\", \"IsOptional\": false, \"Description\": null, \"MarkupType\": \"InputPort\", \"Types\": [{\"Id\": \"Dataset\", \"Name\": \"Dataset .NET file\", \"ShortName\": \"Dataset\", \"Description\": \"A serialized DataTable supporting partial reads and writes\", \"IsDirectory\": false, \"Owner\": \"Microsoft Corporation\", \"FileExtension\": \"dataset.parquet\", \"ContentType\": \"application/octet-stream\", \"AllowUpload\": false, \"AllowPromotion\": true, \"AllowModelPromotion\": false, \"AuxiliaryFileExtension\": null, \"AuxiliaryContentType\": null}, {\"Id\": \"GenericCSV\", \"Name\": \"Generic CSV File with a header\", \"ShortName\": \"GenericCSV\", \"Description\": \"Comma-separated text file with a header\", \"IsDirectory\": false, \"Owner\": \"Microsoft Corporation\", \"FileExtension\": \"csv\", \"ContentType\": \"text/csv\", \"AllowUpload\": true, \"AllowPromotion\": true, \"AllowModelPromotion\": false, \"AuxiliaryFileExtension\": null, \"AuxiliaryContentType\": null}, {\"Id\": \"GenericCSVNoHeader\", \"Name\": \"Generic CSV File With no header\", \"ShortName\": \"GenericCSVNoHeader\", \"Description\": \"Comma-separated text file with no header\", \"IsDirectory\": false, \"Owner\": \"Microsoft Corporation\", \"FileExtension\": \"nh.csv\", \"ContentType\": \"text/csv\", \"AllowUpload\": true, \"AllowPromotion\": true, \"AllowModelPromotion\": false, \"AuxiliaryFileExtension\": null, \"AuxiliaryContentType\": null}, {\"Id\": \"ARFF\", \"Name\": \"Attribute Relation File Format\", \"ShortName\": \"ARFF\", \"Description\": \"Attribute relation file format\", \"IsDirectory\": false, \"Owner\": \"Microsoft Corporation\", \"FileExtension\": \"arff\", \"ContentType\": \"text/plain\", \"AllowUpload\": false, \"AllowPromotion\": true, \"AllowModelPromotion\": false, \"AuxiliaryFileExtension\": null, \"AuxiliaryContentType\": null}, {\"Id\": \"GenericTSV\", \"Name\": \"Generic TSV File with a header\", \"ShortName\": \"GenericTSV\", \"Description\": \"Tab-separated text file with a header\", \"IsDirectory\": false, \"Owner\": \"Microsoft Corporation\", \"FileExtension\": \"tsv\", \"ContentType\": \"text/plain\", \"AllowUpload\": true, \"AllowPromotion\": true, \"AllowModelPromotion\": false, \"AuxiliaryFileExtension\": null, \"AuxiliaryContentType\": null}, {\"Id\": \"GenericTSVNoHeader\", \"Name\": \"Generic TSV File With no header\", \"ShortName\": \"GenericTSVNoHeader\", \"Description\": \"Tab-separated text file with no header\", \"IsDirectory\": false, \"Owner\": \"Microsoft Corporation\", \"FileExtension\": \"nh.tsv\", \"ContentType\": \"text/plain\", \"AllowUpload\": true, \"AllowPromotion\": true, \"AllowModelPromotion\": false, \"AuxiliaryFileExtension\": null, \"AuxiliaryContentType\": null}]}], \"OutputPorts\": [{\"Name\": \"Output feature\", \"FriendlyName\": \"Output feature\", \"Description\": null, \"MarkupType\": \"OutputPort\", \"Type\": {\"Id\": \"Dataset\", \"Name\": \"Dataset .NET file\", \"ShortName\": \"Dataset\", \"Description\": \"A serialized DataTable supporting partial reads and writes\", \"IsDirectory\": false, \"Owner\": \"Microsoft Corporation\", \"FileExtension\": \"dataset.parquet\", \"ContentType\": \"application/octet-stream\", \"AllowUpload\": false, \"AllowPromotion\": true, \"AllowModelPromotion\": false, \"AuxiliaryFileExtension\": null, \"AuxiliaryContentType\": null}}], \"Parameters\": [{\"Name\": \"BERT pretrained model\", \"FriendlyName\": \"BERT pretrained model\", \"IsOptional\": false, \"Description\": null, \"DefaultValue\": \"bert-base-cased\", \"ParameterType\": \"String\", \"HasDefaultValue\": true, \"MarkupType\": \"Parameter\"}, {\"Name\": \"Do lower case\", \"FriendlyName\": \"Do lower case\", \"IsOptional\": false, \"Description\": null, \"DefaultValue\": \"False\", \"ParameterType\": \"Boolean\", \"HasDefaultValue\": true, \"MarkupType\": \"Parameter\"}, {\"MinValue\": null, \"MaxValue\": null, \"Name\": \"Maximum sequence length\", \"FriendlyName\": \"Maximum sequence length\", \"IsOptional\": false, \"Description\": null, \"DefaultValue\": \"128\", \"ParameterType\": \"Int\", \"HasDefaultValue\": true, \"MarkupType\": \"Parameter\"}]}}\n",
      "Load spec file: ner-bert/module_specs/score.yaml\n",
      "{\"Name\": \"NER Score\", \"FriendlyName\": \"NER Score\", \"FamilyId\": \"d4098d60-4239-416a-ab41-1cd1e6dad761\", \"Category\": \"Machine Learning\\\\Score\", \"Description\": \"NER score module\", \"Version\": \"1\", \"Owner\": \"Jincheng Chen\", \"ReleaseState\": \"Release\", \"IsDeterministic\": true, \"CondaDependencies\": {\"CondaChannels\": [\"defaults\"], \"CondaPackages\": [\"python=3.6.2\"], \"PipOptions\": [\"--extra-index-url=https://test.pypi.org/simple\"], \"PipPackages\": [\"azureml-core==1.0.43\", \"azureml==0.2.7\", \"git+https://github.com/chjinche/azureml-custom-module-examples.git@master#subdirectory=ner-bert\", \"https://download.pytorch.org/whl/cu100/torch-1.1.0-cp36-cp36m-linux_x86_64.whl\", \"matplotlib==3.1.0\", \"nltk==3.4\", \"pandas==0.24.1\", \"pyarrow==0.12.1\", \"pytorch-pretrained-bert==0.6.1\", \"scikit-plot==0.3.7\", \"seqeval==0.0.5\", \"torchvision==0.3.0\", \"tqdm==4.31.1\"]}, \"ModuleMetaParameters\": {\"BaseDockerImage\": \"mcr.microsoft.com/azureml/base-gpu:intelmpi2018.3-cuda10.0-cudnn7-ubuntu16.04\", \"GpuSupport\": true}, \"ModuleEntry\": {\"ModuleName\": \"script.score\", \"ClassName\": \"Ner\", \"MethodName\": \"run\"}, \"CommandLineEntry\": {\"Command\": [\"python\", \"-m\", \"script.score\"], \"OptionNames\": {\"Trained model\": \"--trained_model_dir\", \"Input test data\": \"--test_feature_dir\", \"No cuda\": \"--no_cuda\", \"Local Rank\": \"--local_rank\", \"Test Batch Size\": \"--test_batch_size\", \"Output evaluation results\": \"--output_eval_dir\"}}, \"ModuleInterface\": {\"InputPorts\": [{\"Name\": \"Trained model\", \"FriendlyName\": \"Trained model\", \"IsOptional\": false, \"Description\": null, \"MarkupType\": \"InputPort\", \"Types\": [{\"Id\": \"ILearnerDotNet\", \"Name\": \"ILearner .NET file\", \"ShortName\": \"Model\", \"Description\": \"A .NET serialized ILearner\", \"IsDirectory\": false, \"Owner\": \"Microsoft Corporation\", \"FileExtension\": \"ilearner\", \"ContentType\": \"application/octet-stream\", \"AllowUpload\": false, \"AllowPromotion\": false, \"AllowModelPromotion\": true, \"AuxiliaryFileExtension\": null, \"AuxiliaryContentType\": null}]}, {\"Name\": \"Input test data\", \"FriendlyName\": \"Input test data\", \"IsOptional\": false, \"Description\": null, \"MarkupType\": \"InputPort\", \"Types\": [{\"Id\": \"Dataset\", \"Name\": \"Dataset .NET file\", \"ShortName\": \"Dataset\", \"Description\": \"A serialized DataTable supporting partial reads and writes\", \"IsDirectory\": false, \"Owner\": \"Microsoft Corporation\", \"FileExtension\": \"dataset.parquet\", \"ContentType\": \"application/octet-stream\", \"AllowUpload\": false, \"AllowPromotion\": true, \"AllowModelPromotion\": false, \"AuxiliaryFileExtension\": null, \"AuxiliaryContentType\": null}, {\"Id\": \"GenericCSV\", \"Name\": \"Generic CSV File with a header\", \"ShortName\": \"GenericCSV\", \"Description\": \"Comma-separated text file with a header\", \"IsDirectory\": false, \"Owner\": \"Microsoft Corporation\", \"FileExtension\": \"csv\", \"ContentType\": \"text/csv\", \"AllowUpload\": true, \"AllowPromotion\": true, \"AllowModelPromotion\": false, \"AuxiliaryFileExtension\": null, \"AuxiliaryContentType\": null}, {\"Id\": \"GenericCSVNoHeader\", \"Name\": \"Generic CSV File With no header\", \"ShortName\": \"GenericCSVNoHeader\", \"Description\": \"Comma-separated text file with no header\", \"IsDirectory\": false, \"Owner\": \"Microsoft Corporation\", \"FileExtension\": \"nh.csv\", \"ContentType\": \"text/csv\", \"AllowUpload\": true, \"AllowPromotion\": true, \"AllowModelPromotion\": false, \"AuxiliaryFileExtension\": null, \"AuxiliaryContentType\": null}, {\"Id\": \"ARFF\", \"Name\": \"Attribute Relation File Format\", \"ShortName\": \"ARFF\", \"Description\": \"Attribute relation file format\", \"IsDirectory\": false, \"Owner\": \"Microsoft Corporation\", \"FileExtension\": \"arff\", \"ContentType\": \"text/plain\", \"AllowUpload\": false, \"AllowPromotion\": true, \"AllowModelPromotion\": false, \"AuxiliaryFileExtension\": null, \"AuxiliaryContentType\": null}, {\"Id\": \"GenericTSV\", \"Name\": \"Generic TSV File with a header\", \"ShortName\": \"GenericTSV\", \"Description\": \"Tab-separated text file with a header\", \"IsDirectory\": false, \"Owner\": \"Microsoft Corporation\", \"FileExtension\": \"tsv\", \"ContentType\": \"text/plain\", \"AllowUpload\": true, \"AllowPromotion\": true, \"AllowModelPromotion\": false, \"AuxiliaryFileExtension\": null, \"AuxiliaryContentType\": null}, {\"Id\": \"GenericTSVNoHeader\", \"Name\": \"Generic TSV File With no header\", \"ShortName\": \"GenericTSVNoHeader\", \"Description\": \"Tab-separated text file with no header\", \"IsDirectory\": false, \"Owner\": \"Microsoft Corporation\", \"FileExtension\": \"nh.tsv\", \"ContentType\": \"text/plain\", \"AllowUpload\": true, \"AllowPromotion\": true, \"AllowModelPromotion\": false, \"AuxiliaryFileExtension\": null, \"AuxiliaryContentType\": null}]}], \"OutputPorts\": [{\"Name\": \"Output evaluation results\", \"FriendlyName\": \"Output evaluation results\", \"Description\": null, \"MarkupType\": \"OutputPort\", \"Type\": {\"Id\": \"Dataset\", \"Name\": \"Dataset .NET file\", \"ShortName\": \"Dataset\", \"Description\": \"A serialized DataTable supporting partial reads and writes\", \"IsDirectory\": false, \"Owner\": \"Microsoft Corporation\", \"FileExtension\": \"dataset.parquet\", \"ContentType\": \"application/octet-stream\", \"AllowUpload\": false, \"AllowPromotion\": true, \"AllowModelPromotion\": false, \"AuxiliaryFileExtension\": null, \"AuxiliaryContentType\": null}}], \"Parameters\": [{\"Name\": \"No cuda\", \"FriendlyName\": \"No cuda\", \"IsOptional\": false, \"Description\": null, \"DefaultValue\": \"False\", \"ParameterType\": \"Boolean\", \"HasDefaultValue\": true, \"MarkupType\": \"Parameter\"}, {\"MinValue\": null, \"MaxValue\": null, \"Name\": \"Local Rank\", \"FriendlyName\": \"Local Rank\", \"IsOptional\": false, \"Description\": null, \"DefaultValue\": \"-1\", \"ParameterType\": \"Int\", \"HasDefaultValue\": true, \"MarkupType\": \"Parameter\"}, {\"MinValue\": null, \"MaxValue\": null, \"Name\": \"Test Batch Size\", \"FriendlyName\": \"Test Batch Size\", \"IsOptional\": false, \"Description\": null, \"DefaultValue\": \"8\", \"ParameterType\": \"Int\", \"HasDefaultValue\": true, \"MarkupType\": \"Parameter\"}]}}\n",
      "Load spec file: ner-bert/module_specs/train.yaml\n",
      "{\"Name\": \"NER Train\", \"FriendlyName\": \"NER Train\", \"FamilyId\": \"35ff6570-c9af-4304-a57a-2b63ba216396\", \"Category\": \"Machine Learning\\\\Train\", \"Description\": \"NER train module\", \"Version\": \"1\", \"Owner\": \"Jincheng Chen\", \"ReleaseState\": \"Release\", \"IsDeterministic\": true, \"CondaDependencies\": {\"CondaChannels\": [\"defaults\"], \"CondaPackages\": [\"python=3.6.2\"], \"PipOptions\": [\"--extra-index-url=https://test.pypi.org/simple\"], \"PipPackages\": [\"git+https://github.com/chjinche/azureml-custom-module-examples.git@master#subdirectory=ner-bert\", \"https://download.pytorch.org/whl/cu100/torch-1.1.0-cp36-cp36m-linux_x86_64.whl\", \"nltk==3.4\", \"pandas==0.24.1\", \"pyarrow==0.12.1\", \"pytorch-pretrained-bert==0.6.1\", \"seqeval==0.0.5\", \"torchvision==0.3.0\", \"tqdm==4.31.1\"]}, \"ModuleMetaParameters\": {\"BaseDockerImage\": \"mcr.microsoft.com/azureml/base-gpu:intelmpi2018.3-cuda10.0-cudnn7-ubuntu16.04\", \"GpuSupport\": true}, \"ModuleEntry\": {}, \"CommandLineEntry\": {\"Command\": [\"python\", \"-m\", \"script.train\"], \"OptionNames\": {\"Input train data\": \"--train_feature_dir\", \"BERT pretrained model\": \"--bert_model\", \"Maximum sequence length\": \"--max_seq_length\", \"Number of training epochs\": \"--num_train_epochs\", \"Warmup proportion\": \"--warmup_proportion\", \"Output model\": \"--output_model_dir\"}}, \"ModuleInterface\": {\"InputPorts\": [{\"Name\": \"Input train data\", \"FriendlyName\": \"Input train data\", \"IsOptional\": false, \"Description\": null, \"MarkupType\": \"InputPort\", \"Types\": [{\"Id\": \"Dataset\", \"Name\": \"Dataset .NET file\", \"ShortName\": \"Dataset\", \"Description\": \"A serialized DataTable supporting partial reads and writes\", \"IsDirectory\": false, \"Owner\": \"Microsoft Corporation\", \"FileExtension\": \"dataset.parquet\", \"ContentType\": \"application/octet-stream\", \"AllowUpload\": false, \"AllowPromotion\": true, \"AllowModelPromotion\": false, \"AuxiliaryFileExtension\": null, \"AuxiliaryContentType\": null}, {\"Id\": \"GenericCSV\", \"Name\": \"Generic CSV File with a header\", \"ShortName\": \"GenericCSV\", \"Description\": \"Comma-separated text file with a header\", \"IsDirectory\": false, \"Owner\": \"Microsoft Corporation\", \"FileExtension\": \"csv\", \"ContentType\": \"text/csv\", \"AllowUpload\": true, \"AllowPromotion\": true, \"AllowModelPromotion\": false, \"AuxiliaryFileExtension\": null, \"AuxiliaryContentType\": null}, {\"Id\": \"GenericCSVNoHeader\", \"Name\": \"Generic CSV File With no header\", \"ShortName\": \"GenericCSVNoHeader\", \"Description\": \"Comma-separated text file with no header\", \"IsDirectory\": false, \"Owner\": \"Microsoft Corporation\", \"FileExtension\": \"nh.csv\", \"ContentType\": \"text/csv\", \"AllowUpload\": true, \"AllowPromotion\": true, \"AllowModelPromotion\": false, \"AuxiliaryFileExtension\": null, \"AuxiliaryContentType\": null}, {\"Id\": \"ARFF\", \"Name\": \"Attribute Relation File Format\", \"ShortName\": \"ARFF\", \"Description\": \"Attribute relation file format\", \"IsDirectory\": false, \"Owner\": \"Microsoft Corporation\", \"FileExtension\": \"arff\", \"ContentType\": \"text/plain\", \"AllowUpload\": false, \"AllowPromotion\": true, \"AllowModelPromotion\": false, \"AuxiliaryFileExtension\": null, \"AuxiliaryContentType\": null}, {\"Id\": \"GenericTSV\", \"Name\": \"Generic TSV File with a header\", \"ShortName\": \"GenericTSV\", \"Description\": \"Tab-separated text file with a header\", \"IsDirectory\": false, \"Owner\": \"Microsoft Corporation\", \"FileExtension\": \"tsv\", \"ContentType\": \"text/plain\", \"AllowUpload\": true, \"AllowPromotion\": true, \"AllowModelPromotion\": false, \"AuxiliaryFileExtension\": null, \"AuxiliaryContentType\": null}, {\"Id\": \"GenericTSVNoHeader\", \"Name\": \"Generic TSV File With no header\", \"ShortName\": \"GenericTSVNoHeader\", \"Description\": \"Tab-separated text file with no header\", \"IsDirectory\": false, \"Owner\": \"Microsoft Corporation\", \"FileExtension\": \"nh.tsv\", \"ContentType\": \"text/plain\", \"AllowUpload\": true, \"AllowPromotion\": true, \"AllowModelPromotion\": false, \"AuxiliaryFileExtension\": null, \"AuxiliaryContentType\": null}]}], \"OutputPorts\": [{\"Name\": \"Output model\", \"FriendlyName\": \"Output model\", \"Description\": null, \"MarkupType\": \"OutputPort\", \"Type\": {\"Id\": \"ILearnerDotNet\", \"Name\": \"ILearner .NET file\", \"ShortName\": \"Model\", \"Description\": \"A .NET serialized ILearner\", \"IsDirectory\": false, \"Owner\": \"Microsoft Corporation\", \"FileExtension\": \"ilearner\", \"ContentType\": \"application/octet-stream\", \"AllowUpload\": false, \"AllowPromotion\": false, \"AllowModelPromotion\": true, \"AuxiliaryFileExtension\": null, \"AuxiliaryContentType\": null}}], \"Parameters\": [{\"Name\": \"BERT pretrained model\", \"FriendlyName\": \"BERT pretrained model\", \"IsOptional\": false, \"Description\": null, \"DefaultValue\": \"bert-base-cased\", \"ParameterType\": \"Mode\", \"HasDefaultValue\": true, \"MarkupType\": \"Parameter\", \"ModeValuesInfo\": {\"bert-base-uncased\": {\"DisplayValue\": \"bert-base-uncased\", \"Parameters\": []}, \"bert-base-cased\": {\"DisplayValue\": \"bert-base-cased\", \"Parameters\": []}, \"bert-large-uncased\": {\"DisplayValue\": \"bert-large-uncased\", \"Parameters\": []}, \"bert-large-cased\": {\"DisplayValue\": \"bert-large-cased\", \"Parameters\": []}}}, {\"MinValue\": null, \"MaxValue\": null, \"Name\": \"Maximum sequence length\", \"FriendlyName\": \"Maximum sequence length\", \"IsOptional\": false, \"Description\": null, \"DefaultValue\": \"128\", \"ParameterType\": \"Int\", \"HasDefaultValue\": true, \"MarkupType\": \"Parameter\"}, {\"MinValue\": null, \"MaxValue\": null, \"Name\": \"Number of training epochs\", \"FriendlyName\": \"Number of training epochs\", \"IsOptional\": false, \"Description\": null, \"DefaultValue\": \"5\", \"ParameterType\": \"Int\", \"HasDefaultValue\": true, \"MarkupType\": \"Parameter\"}, {\"MinValue\": null, \"MaxValue\": null, \"Name\": \"Warmup proportion\", \"FriendlyName\": \"Warmup proportion\", \"IsOptional\": false, \"Description\": null, \"DefaultValue\": \"0.4\", \"ParameterType\": \"Float\", \"HasDefaultValue\": true, \"MarkupType\": \"Parameter\"}]}}\n",
      "Get workspaceID of workspace lisal-amlservice\n"
     ]
    },
    {
     "name": "stdout",
     "output_type": "stream",
     "text": [
      "Registering modules to workspace 73f8ede684f44b7285c8674428b32e73\n",
      "Get latest BatchID...\n",
      "Latest BatchID is 3\n",
      "Registering 3 modules to Batch 4\n",
      "Active Batch 4\n",
      "Register complete.\n"
     ]
    }
   ],
   "source": [
    "register_module(\n",
    "    workspace=ws,\n",
    "    git_url='https://github.com/Bowen-Guo/azureml-custom-module-examples/tree/master/ner-bert/module_specs'\n",
    ")"
   ]
  },
  {
   "cell_type": "markdown",
   "metadata": {},
   "source": [
    "## Get registered module"
   ]
  },
  {
   "cell_type": "code",
   "execution_count": 5,
   "metadata": {},
   "outputs": [
    {
     "name": "stdout",
     "output_type": "stream",
     "text": [
      "Creating Module NER Train (version: 4, owner: Jincheng Chen, created date: 2019-07-25 00:00:36)\n",
      "Creating Module NER Score (version: 4, owner: Jincheng Chen, created date: 2019-07-25 00:00:36)\n",
      "Creating Module NER Preprocess (version: 4, owner: Jincheng Chen, created date: 2019-07-25 00:00:36)\n"
     ]
    }
   ],
   "source": [
    "ner_train = Module.create(ws, 'NER Train')\n",
    "ner_score = Module.create(ws, 'NER Score')\n",
    "ner_preprocess = Module.create(ws, 'NER Preprocess')"
   ]
  },
  {
   "cell_type": "code",
   "execution_count": null,
   "metadata": {},
   "outputs": [],
   "source": []
  }
 ],
 "metadata": {
  "kernelspec": {
   "display_name": "Python 3",
   "language": "python",
   "name": "python3"
  },
  "language_info": {
   "codemirror_mode": {
    "name": "ipython",
    "version": 3
   },
   "file_extension": ".py",
   "mimetype": "text/x-python",
   "name": "python",
   "nbconvert_exporter": "python",
   "pygments_lexer": "ipython3",
   "version": "3.7.3"
  }
 },
 "nbformat": 4,
 "nbformat_minor": 2
}
